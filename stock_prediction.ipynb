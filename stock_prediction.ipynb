{
  "nbformat": 4,
  "nbformat_minor": 0,
  "metadata": {
    "colab": {
      "provenance": [],
      "authorship_tag": "ABX9TyPENaCFlj0aubmrYsS/yduw",
      "include_colab_link": true
    },
    "kernelspec": {
      "name": "python3",
      "display_name": "Python 3"
    },
    "language_info": {
      "name": "python"
    }
  },
  "cells": [
    {
      "cell_type": "markdown",
      "metadata": {
        "id": "view-in-github",
        "colab_type": "text"
      },
      "source": [
        "<a href=\"https://colab.research.google.com/github/imohib168/AI-course/blob/main/stock_prediction.ipynb\" target=\"_parent\"><img src=\"https://colab.research.google.com/assets/colab-badge.svg\" alt=\"Open In Colab\"/></a>"
      ]
    },
    {
      "cell_type": "code",
      "execution_count": 1,
      "metadata": {
        "colab": {
          "base_uri": "https://localhost:8080/"
        },
        "id": "4Fw2TexUhQ33",
        "outputId": "b3bfe475-0550-415b-d5ee-f9c23b75347d"
      },
      "outputs": [
        {
          "output_type": "stream",
          "name": "stdout",
          "text": [
            "Looking in indexes: https://pypi.org/simple, https://us-python.pkg.dev/colab-wheels/public/simple/\n",
            "Requirement already satisfied: yfinance in /usr/local/lib/python3.9/dist-packages (0.2.17)\n",
            "Requirement already satisfied: pandas>=1.3.0 in /usr/local/lib/python3.9/dist-packages (from yfinance) (1.5.3)\n",
            "Requirement already satisfied: numpy>=1.16.5 in /usr/local/lib/python3.9/dist-packages (from yfinance) (1.22.4)\n",
            "Requirement already satisfied: lxml>=4.9.1 in /usr/local/lib/python3.9/dist-packages (from yfinance) (4.9.2)\n",
            "Requirement already satisfied: frozendict>=2.3.4 in /usr/local/lib/python3.9/dist-packages (from yfinance) (2.3.7)\n",
            "Requirement already satisfied: multitasking>=0.0.7 in /usr/local/lib/python3.9/dist-packages (from yfinance) (0.0.11)\n",
            "Requirement already satisfied: cryptography>=3.3.2 in /usr/local/lib/python3.9/dist-packages (from yfinance) (40.0.1)\n",
            "Requirement already satisfied: beautifulsoup4>=4.11.1 in /usr/local/lib/python3.9/dist-packages (from yfinance) (4.11.2)\n",
            "Requirement already satisfied: appdirs>=1.4.4 in /usr/local/lib/python3.9/dist-packages (from yfinance) (1.4.4)\n",
            "Requirement already satisfied: requests>=2.26 in /usr/local/lib/python3.9/dist-packages (from yfinance) (2.27.1)\n",
            "Requirement already satisfied: html5lib>=1.1 in /usr/local/lib/python3.9/dist-packages (from yfinance) (1.1)\n",
            "Requirement already satisfied: pytz>=2022.5 in /usr/local/lib/python3.9/dist-packages (from yfinance) (2022.7.1)\n",
            "Requirement already satisfied: soupsieve>1.2 in /usr/local/lib/python3.9/dist-packages (from beautifulsoup4>=4.11.1->yfinance) (2.4)\n",
            "Requirement already satisfied: cffi>=1.12 in /usr/local/lib/python3.9/dist-packages (from cryptography>=3.3.2->yfinance) (1.15.1)\n",
            "Requirement already satisfied: webencodings in /usr/local/lib/python3.9/dist-packages (from html5lib>=1.1->yfinance) (0.5.1)\n",
            "Requirement already satisfied: six>=1.9 in /usr/local/lib/python3.9/dist-packages (from html5lib>=1.1->yfinance) (1.16.0)\n",
            "Requirement already satisfied: python-dateutil>=2.8.1 in /usr/local/lib/python3.9/dist-packages (from pandas>=1.3.0->yfinance) (2.8.2)\n",
            "Requirement already satisfied: charset-normalizer~=2.0.0 in /usr/local/lib/python3.9/dist-packages (from requests>=2.26->yfinance) (2.0.12)\n",
            "Requirement already satisfied: certifi>=2017.4.17 in /usr/local/lib/python3.9/dist-packages (from requests>=2.26->yfinance) (2022.12.7)\n",
            "Requirement already satisfied: idna<4,>=2.5 in /usr/local/lib/python3.9/dist-packages (from requests>=2.26->yfinance) (3.4)\n",
            "Requirement already satisfied: urllib3<1.27,>=1.21.1 in /usr/local/lib/python3.9/dist-packages (from requests>=2.26->yfinance) (1.26.15)\n",
            "Requirement already satisfied: pycparser in /usr/local/lib/python3.9/dist-packages (from cffi>=1.12->cryptography>=3.3.2->yfinance) (2.21)\n"
          ]
        }
      ],
      "source": [
        "!pip install yfinance"
      ]
    },
    {
      "cell_type": "code",
      "source": [
        "import yfinance as yf\n",
        "import pandas as pd \n",
        "from sklearn.ensemble import RandomForestClassifier\n",
        "from sklearn.metrics import precision_score"
      ],
      "metadata": {
        "id": "xBKLC6Vkh9vm"
      },
      "execution_count": 2,
      "outputs": []
    },
    {
      "cell_type": "code",
      "source": [
        "sp500 = yf.Ticker(\"PSX\")\n",
        "sp500 = sp500.history(period=\"max\")\n",
        "sp500.to_csv(\"sp500.csv\")"
      ],
      "metadata": {
        "id": "LsX7xrtoh9tR"
      },
      "execution_count": 3,
      "outputs": []
    },
    {
      "cell_type": "code",
      "source": [
        "sp500.index = pd.to_datetime(sp500.index)"
      ],
      "metadata": {
        "id": "NliQ-_pqh9qZ"
      },
      "execution_count": 4,
      "outputs": []
    },
    {
      "cell_type": "code",
      "source": [
        "sp500"
      ],
      "metadata": {
        "colab": {
          "base_uri": "https://localhost:8080/",
          "height": 455
        },
        "id": "9L8I8nUBh9mZ",
        "outputId": "daec8c37-39e3-44a4-86e4-e161b3e3a004"
      },
      "execution_count": 5,
      "outputs": [
        {
          "output_type": "execute_result",
          "data": {
            "text/plain": [
              "                                 Open        High         Low       Close  \\\n",
              "Date                                                                        \n",
              "2012-04-12 00:00:00-04:00   23.186567   23.856013   22.314891   23.709572   \n",
              "2012-04-13 00:00:00-04:00   23.709567   26.115392   23.646807   25.801588   \n",
              "2012-04-16 00:00:00-04:00   25.801585   25.801585   25.097273   25.487782   \n",
              "2012-04-17 00:00:00-04:00   25.383201   25.627269   25.104263   25.104263   \n",
              "2012-04-18 00:00:00-04:00   25.104263   25.411092   24.058252   25.104263   \n",
              "...                               ...         ...         ...         ...   \n",
              "2023-04-10 00:00:00-04:00  103.010002  105.459999  103.000000  104.959999   \n",
              "2023-04-11 00:00:00-04:00  105.800003  107.330002  105.169998  106.459999   \n",
              "2023-04-12 00:00:00-04:00  106.669998  107.470001  105.860001  106.029999   \n",
              "2023-04-13 00:00:00-04:00  105.589996  106.349998  104.739998  106.269997   \n",
              "2023-04-14 00:00:00-04:00  106.190002  106.900002  105.260002  106.260002   \n",
              "\n",
              "                            Volume  Dividends  Stock Splits  \n",
              "Date                                                         \n",
              "2012-04-12 00:00:00-04:00   654700        0.0           0.0  \n",
              "2012-04-13 00:00:00-04:00  1685000        0.0           0.0  \n",
              "2012-04-16 00:00:00-04:00   550200        0.0           0.0  \n",
              "2012-04-17 00:00:00-04:00   179600        0.0           0.0  \n",
              "2012-04-18 00:00:00-04:00   207100        0.0           0.0  \n",
              "...                            ...        ...           ...  \n",
              "2023-04-10 00:00:00-04:00  2887700        0.0           0.0  \n",
              "2023-04-11 00:00:00-04:00  2484100        0.0           0.0  \n",
              "2023-04-12 00:00:00-04:00  3192500        0.0           0.0  \n",
              "2023-04-13 00:00:00-04:00  2765300        0.0           0.0  \n",
              "2023-04-14 00:00:00-04:00  2111100        0.0           0.0  \n",
              "\n",
              "[2770 rows x 7 columns]"
            ],
            "text/html": [
              "\n",
              "  <div id=\"df-cd20c118-ba91-4e91-b0c4-e682d4f786ea\">\n",
              "    <div class=\"colab-df-container\">\n",
              "      <div>\n",
              "<style scoped>\n",
              "    .dataframe tbody tr th:only-of-type {\n",
              "        vertical-align: middle;\n",
              "    }\n",
              "\n",
              "    .dataframe tbody tr th {\n",
              "        vertical-align: top;\n",
              "    }\n",
              "\n",
              "    .dataframe thead th {\n",
              "        text-align: right;\n",
              "    }\n",
              "</style>\n",
              "<table border=\"1\" class=\"dataframe\">\n",
              "  <thead>\n",
              "    <tr style=\"text-align: right;\">\n",
              "      <th></th>\n",
              "      <th>Open</th>\n",
              "      <th>High</th>\n",
              "      <th>Low</th>\n",
              "      <th>Close</th>\n",
              "      <th>Volume</th>\n",
              "      <th>Dividends</th>\n",
              "      <th>Stock Splits</th>\n",
              "    </tr>\n",
              "    <tr>\n",
              "      <th>Date</th>\n",
              "      <th></th>\n",
              "      <th></th>\n",
              "      <th></th>\n",
              "      <th></th>\n",
              "      <th></th>\n",
              "      <th></th>\n",
              "      <th></th>\n",
              "    </tr>\n",
              "  </thead>\n",
              "  <tbody>\n",
              "    <tr>\n",
              "      <th>2012-04-12 00:00:00-04:00</th>\n",
              "      <td>23.186567</td>\n",
              "      <td>23.856013</td>\n",
              "      <td>22.314891</td>\n",
              "      <td>23.709572</td>\n",
              "      <td>654700</td>\n",
              "      <td>0.0</td>\n",
              "      <td>0.0</td>\n",
              "    </tr>\n",
              "    <tr>\n",
              "      <th>2012-04-13 00:00:00-04:00</th>\n",
              "      <td>23.709567</td>\n",
              "      <td>26.115392</td>\n",
              "      <td>23.646807</td>\n",
              "      <td>25.801588</td>\n",
              "      <td>1685000</td>\n",
              "      <td>0.0</td>\n",
              "      <td>0.0</td>\n",
              "    </tr>\n",
              "    <tr>\n",
              "      <th>2012-04-16 00:00:00-04:00</th>\n",
              "      <td>25.801585</td>\n",
              "      <td>25.801585</td>\n",
              "      <td>25.097273</td>\n",
              "      <td>25.487782</td>\n",
              "      <td>550200</td>\n",
              "      <td>0.0</td>\n",
              "      <td>0.0</td>\n",
              "    </tr>\n",
              "    <tr>\n",
              "      <th>2012-04-17 00:00:00-04:00</th>\n",
              "      <td>25.383201</td>\n",
              "      <td>25.627269</td>\n",
              "      <td>25.104263</td>\n",
              "      <td>25.104263</td>\n",
              "      <td>179600</td>\n",
              "      <td>0.0</td>\n",
              "      <td>0.0</td>\n",
              "    </tr>\n",
              "    <tr>\n",
              "      <th>2012-04-18 00:00:00-04:00</th>\n",
              "      <td>25.104263</td>\n",
              "      <td>25.411092</td>\n",
              "      <td>24.058252</td>\n",
              "      <td>25.104263</td>\n",
              "      <td>207100</td>\n",
              "      <td>0.0</td>\n",
              "      <td>0.0</td>\n",
              "    </tr>\n",
              "    <tr>\n",
              "      <th>...</th>\n",
              "      <td>...</td>\n",
              "      <td>...</td>\n",
              "      <td>...</td>\n",
              "      <td>...</td>\n",
              "      <td>...</td>\n",
              "      <td>...</td>\n",
              "      <td>...</td>\n",
              "    </tr>\n",
              "    <tr>\n",
              "      <th>2023-04-10 00:00:00-04:00</th>\n",
              "      <td>103.010002</td>\n",
              "      <td>105.459999</td>\n",
              "      <td>103.000000</td>\n",
              "      <td>104.959999</td>\n",
              "      <td>2887700</td>\n",
              "      <td>0.0</td>\n",
              "      <td>0.0</td>\n",
              "    </tr>\n",
              "    <tr>\n",
              "      <th>2023-04-11 00:00:00-04:00</th>\n",
              "      <td>105.800003</td>\n",
              "      <td>107.330002</td>\n",
              "      <td>105.169998</td>\n",
              "      <td>106.459999</td>\n",
              "      <td>2484100</td>\n",
              "      <td>0.0</td>\n",
              "      <td>0.0</td>\n",
              "    </tr>\n",
              "    <tr>\n",
              "      <th>2023-04-12 00:00:00-04:00</th>\n",
              "      <td>106.669998</td>\n",
              "      <td>107.470001</td>\n",
              "      <td>105.860001</td>\n",
              "      <td>106.029999</td>\n",
              "      <td>3192500</td>\n",
              "      <td>0.0</td>\n",
              "      <td>0.0</td>\n",
              "    </tr>\n",
              "    <tr>\n",
              "      <th>2023-04-13 00:00:00-04:00</th>\n",
              "      <td>105.589996</td>\n",
              "      <td>106.349998</td>\n",
              "      <td>104.739998</td>\n",
              "      <td>106.269997</td>\n",
              "      <td>2765300</td>\n",
              "      <td>0.0</td>\n",
              "      <td>0.0</td>\n",
              "    </tr>\n",
              "    <tr>\n",
              "      <th>2023-04-14 00:00:00-04:00</th>\n",
              "      <td>106.190002</td>\n",
              "      <td>106.900002</td>\n",
              "      <td>105.260002</td>\n",
              "      <td>106.260002</td>\n",
              "      <td>2111100</td>\n",
              "      <td>0.0</td>\n",
              "      <td>0.0</td>\n",
              "    </tr>\n",
              "  </tbody>\n",
              "</table>\n",
              "<p>2770 rows × 7 columns</p>\n",
              "</div>\n",
              "      <button class=\"colab-df-convert\" onclick=\"convertToInteractive('df-cd20c118-ba91-4e91-b0c4-e682d4f786ea')\"\n",
              "              title=\"Convert this dataframe to an interactive table.\"\n",
              "              style=\"display:none;\">\n",
              "        \n",
              "  <svg xmlns=\"http://www.w3.org/2000/svg\" height=\"24px\"viewBox=\"0 0 24 24\"\n",
              "       width=\"24px\">\n",
              "    <path d=\"M0 0h24v24H0V0z\" fill=\"none\"/>\n",
              "    <path d=\"M18.56 5.44l.94 2.06.94-2.06 2.06-.94-2.06-.94-.94-2.06-.94 2.06-2.06.94zm-11 1L8.5 8.5l.94-2.06 2.06-.94-2.06-.94L8.5 2.5l-.94 2.06-2.06.94zm10 10l.94 2.06.94-2.06 2.06-.94-2.06-.94-.94-2.06-.94 2.06-2.06.94z\"/><path d=\"M17.41 7.96l-1.37-1.37c-.4-.4-.92-.59-1.43-.59-.52 0-1.04.2-1.43.59L10.3 9.45l-7.72 7.72c-.78.78-.78 2.05 0 2.83L4 21.41c.39.39.9.59 1.41.59.51 0 1.02-.2 1.41-.59l7.78-7.78 2.81-2.81c.8-.78.8-2.07 0-2.86zM5.41 20L4 18.59l7.72-7.72 1.47 1.35L5.41 20z\"/>\n",
              "  </svg>\n",
              "      </button>\n",
              "      \n",
              "  <style>\n",
              "    .colab-df-container {\n",
              "      display:flex;\n",
              "      flex-wrap:wrap;\n",
              "      gap: 12px;\n",
              "    }\n",
              "\n",
              "    .colab-df-convert {\n",
              "      background-color: #E8F0FE;\n",
              "      border: none;\n",
              "      border-radius: 50%;\n",
              "      cursor: pointer;\n",
              "      display: none;\n",
              "      fill: #1967D2;\n",
              "      height: 32px;\n",
              "      padding: 0 0 0 0;\n",
              "      width: 32px;\n",
              "    }\n",
              "\n",
              "    .colab-df-convert:hover {\n",
              "      background-color: #E2EBFA;\n",
              "      box-shadow: 0px 1px 2px rgba(60, 64, 67, 0.3), 0px 1px 3px 1px rgba(60, 64, 67, 0.15);\n",
              "      fill: #174EA6;\n",
              "    }\n",
              "\n",
              "    [theme=dark] .colab-df-convert {\n",
              "      background-color: #3B4455;\n",
              "      fill: #D2E3FC;\n",
              "    }\n",
              "\n",
              "    [theme=dark] .colab-df-convert:hover {\n",
              "      background-color: #434B5C;\n",
              "      box-shadow: 0px 1px 3px 1px rgba(0, 0, 0, 0.15);\n",
              "      filter: drop-shadow(0px 1px 2px rgba(0, 0, 0, 0.3));\n",
              "      fill: #FFFFFF;\n",
              "    }\n",
              "  </style>\n",
              "\n",
              "      <script>\n",
              "        const buttonEl =\n",
              "          document.querySelector('#df-cd20c118-ba91-4e91-b0c4-e682d4f786ea button.colab-df-convert');\n",
              "        buttonEl.style.display =\n",
              "          google.colab.kernel.accessAllowed ? 'block' : 'none';\n",
              "\n",
              "        async function convertToInteractive(key) {\n",
              "          const element = document.querySelector('#df-cd20c118-ba91-4e91-b0c4-e682d4f786ea');\n",
              "          const dataTable =\n",
              "            await google.colab.kernel.invokeFunction('convertToInteractive',\n",
              "                                                     [key], {});\n",
              "          if (!dataTable) return;\n",
              "\n",
              "          const docLinkHtml = 'Like what you see? Visit the ' +\n",
              "            '<a target=\"_blank\" href=https://colab.research.google.com/notebooks/data_table.ipynb>data table notebook</a>'\n",
              "            + ' to learn more about interactive tables.';\n",
              "          element.innerHTML = '';\n",
              "          dataTable['output_type'] = 'display_data';\n",
              "          await google.colab.output.renderOutput(dataTable, element);\n",
              "          const docLink = document.createElement('div');\n",
              "          docLink.innerHTML = docLinkHtml;\n",
              "          element.appendChild(docLink);\n",
              "        }\n",
              "      </script>\n",
              "    </div>\n",
              "  </div>\n",
              "  "
            ]
          },
          "metadata": {},
          "execution_count": 5
        }
      ]
    },
    {
      "cell_type": "code",
      "source": [
        "sp500.plot.line(y=\"Close\", use_index=True)"
      ],
      "metadata": {
        "colab": {
          "base_uri": "https://localhost:8080/",
          "height": 439
        },
        "id": "rAL7BYgkh9kL",
        "outputId": "8099ab79-9e1e-4f77-bd8c-7d7ebe5f41f6"
      },
      "execution_count": 6,
      "outputs": [
        {
          "output_type": "execute_result",
          "data": {
            "text/plain": [
              "<Axes: xlabel='Date'>"
            ]
          },
          "metadata": {},
          "execution_count": 6
        },
        {
          "output_type": "display_data",
          "data": {
            "text/plain": [
              "<Figure size 640x480 with 1 Axes>"
            ],
            "image/png": "[encoded data removed]"
          },
          "metadata": {}
        }
      ]
    },
    {
      "cell_type": "code",
      "source": [
        "del sp500[\"Dividends\"]\n",
        "del sp500[\"Stock Splits\"]"
      ],
      "metadata": {
        "id": "ZfLRUiBah9hl"
      },
      "execution_count": 7,
      "outputs": []
    },
    {
      "cell_type": "code",
      "source": [
        "sp500[\"Tomorrow\"] = sp500[\"Close\"].shift(-1)"
      ],
      "metadata": {
        "id": "IzVIddlBh9eu"
      },
      "execution_count": 8,
      "outputs": []
    },
    {
      "cell_type": "code",
      "source": [
        "sp500[\"Target\"] = (sp500[\"Tomorrow\"] > sp500[\"Close\"]).astype(int)"
      ],
      "metadata": {
        "id": "Hg8GsGJIh9cX"
      },
      "execution_count": 9,
      "outputs": []
    },
    {
      "cell_type": "code",
      "source": [
        "sp500"
      ],
      "metadata": {
        "colab": {
          "base_uri": "https://localhost:8080/",
          "height": 455
        },
        "id": "tjDOdjMah9Yo",
        "outputId": "cda9e6ad-67cd-4b4f-bbe6-9e296991d83b"
      },
      "execution_count": 10,
      "outputs": [
        {
          "output_type": "execute_result",
          "data": {
            "text/plain": [
              "                                 Open        High         Low       Close  \\\n",
              "Date                                                                        \n",
              "2012-04-12 00:00:00-04:00   23.186567   23.856013   22.314891   23.709572   \n",
              "2012-04-13 00:00:00-04:00   23.709567   26.115392   23.646807   25.801588   \n",
              "2012-04-16 00:00:00-04:00   25.801585   25.801585   25.097273   25.487782   \n",
              "2012-04-17 00:00:00-04:00   25.383201   25.627269   25.104263   25.104263   \n",
              "2012-04-18 00:00:00-04:00   25.104263   25.411092   24.058252   25.104263   \n",
              "...                               ...         ...         ...         ...   \n",
              "2023-04-10 00:00:00-04:00  103.010002  105.459999  103.000000  104.959999   \n",
              "2023-04-11 00:00:00-04:00  105.800003  107.330002  105.169998  106.459999   \n",
              "2023-04-12 00:00:00-04:00  106.669998  107.470001  105.860001  106.029999   \n",
              "2023-04-13 00:00:00-04:00  105.589996  106.349998  104.739998  106.269997   \n",
              "2023-04-14 00:00:00-04:00  106.190002  106.900002  105.260002  106.260002   \n",
              "\n",
              "                            Volume    Tomorrow  Target  \n",
              "Date                                                    \n",
              "2012-04-12 00:00:00-04:00   654700   25.801588       1  \n",
              "2012-04-13 00:00:00-04:00  1685000   25.487782       0  \n",
              "2012-04-16 00:00:00-04:00   550200   25.104263       0  \n",
              "2012-04-17 00:00:00-04:00   179600   25.104263       0  \n",
              "2012-04-18 00:00:00-04:00   207100   25.104263       0  \n",
              "...                            ...         ...     ...  \n",
              "2023-04-10 00:00:00-04:00  2887700  106.459999       1  \n",
              "2023-04-11 00:00:00-04:00  2484100  106.029999       0  \n",
              "2023-04-12 00:00:00-04:00  3192500  106.269997       1  \n",
              "2023-04-13 00:00:00-04:00  2765300  106.260002       0  \n",
              "2023-04-14 00:00:00-04:00  2111100         NaN       0  \n",
              "\n",
              "[2770 rows x 7 columns]"
            ],
            "text/html": [
              "\n",
              "  <div id=\"df-4777531d-460d-4dcd-8938-31ed8836500f\">\n",
              "    <div class=\"colab-df-container\">\n",
              "      <div>\n",
              "<style scoped>\n",
              "    .dataframe tbody tr th:only-of-type {\n",
              "        vertical-align: middle;\n",
              "    }\n",
              "\n",
              "    .dataframe tbody tr th {\n",
              "        vertical-align: top;\n",
              "    }\n",
              "\n",
              "    .dataframe thead th {\n",
              "        text-align: right;\n",
              "    }\n",
              "</style>\n",
              "<table border=\"1\" class=\"dataframe\">\n",
              "  <thead>\n",
              "    <tr style=\"text-align: right;\">\n",
              "      <th></th>\n",
              "      <th>Open</th>\n",
              "      <th>High</th>\n",
              "      <th>Low</th>\n",
              "      <th>Close</th>\n",
              "      <th>Volume</th>\n",
              "      <th>Tomorrow</th>\n",
              "      <th>Target</th>\n",
              "    </tr>\n",
              "    <tr>\n",
              "      <th>Date</th>\n",
              "      <th></th>\n",
              "      <th></th>\n",
              "      <th></th>\n",
              "      <th></th>\n",
              "      <th></th>\n",
              "      <th></th>\n",
              "      <th></th>\n",
              "    </tr>\n",
              "  </thead>\n",
              "  <tbody>\n",
              "    <tr>\n",
              "      <th>2012-04-12 00:00:00-04:00</th>\n",
              "      <td>23.186567</td>\n",
              "      <td>23.856013</td>\n",
              "      <td>22.314891</td>\n",
              "      <td>23.709572</td>\n",
              "      <td>654700</td>\n",
              "      <td>25.801588</td>\n",
              "      <td>1</td>\n",
              "    </tr>\n",
              "    <tr>\n",
              "      <th>2012-04-13 00:00:00-04:00</th>\n",
              "      <td>23.709567</td>\n",
              "      <td>26.115392</td>\n",
              "      <td>23.646807</td>\n",
              "      <td>25.801588</td>\n",
              "      <td>1685000</td>\n",
              "      <td>25.487782</td>\n",
              "      <td>0</td>\n",
              "    </tr>\n",
              "    <tr>\n",
              "      <th>2012-04-16 00:00:00-04:00</th>\n",
              "      <td>25.801585</td>\n",
              "      <td>25.801585</td>\n",
              "      <td>25.097273</td>\n",
              "      <td>25.487782</td>\n",
              "      <td>550200</td>\n",
              "      <td>25.104263</td>\n",
              "      <td>0</td>\n",
              "    </tr>\n",
              "    <tr>\n",
              "      <th>2012-04-17 00:00:00-04:00</th>\n",
              "      <td>25.383201</td>\n",
              "      <td>25.627269</td>\n",
              "      <td>25.104263</td>\n",
              "      <td>25.104263</td>\n",
              "      <td>179600</td>\n",
              "      <td>25.104263</td>\n",
              "      <td>0</td>\n",
              "    </tr>\n",
              "    <tr>\n",
              "      <th>2012-04-18 00:00:00-04:00</th>\n",
              "      <td>25.104263</td>\n",
              "      <td>25.411092</td>\n",
              "      <td>24.058252</td>\n",
              "      <td>25.104263</td>\n",
              "      <td>207100</td>\n",
              "      <td>25.104263</td>\n",
              "      <td>0</td>\n",
              "    </tr>\n",
              "    <tr>\n",
              "      <th>...</th>\n",
              "      <td>...</td>\n",
              "      <td>...</td>\n",
              "      <td>...</td>\n",
              "      <td>...</td>\n",
              "      <td>...</td>\n",
              "      <td>...</td>\n",
              "      <td>...</td>\n",
              "    </tr>\n",
              "    <tr>\n",
              "      <th>2023-04-10 00:00:00-04:00</th>\n",
              "      <td>103.010002</td>\n",
              "      <td>105.459999</td>\n",
              "      <td>103.000000</td>\n",
              "      <td>104.959999</td>\n",
              "      <td>2887700</td>\n",
              "      <td>106.459999</td>\n",
              "      <td>1</td>\n",
              "    </tr>\n",
              "    <tr>\n",
              "      <th>2023-04-11 00:00:00-04:00</th>\n",
              "      <td>105.800003</td>\n",
              "      <td>107.330002</td>\n",
              "      <td>105.169998</td>\n",
              "      <td>106.459999</td>\n",
              "      <td>2484100</td>\n",
              "      <td>106.029999</td>\n",
              "      <td>0</td>\n",
              "    </tr>\n",
              "    <tr>\n",
              "      <th>2023-04-12 00:00:00-04:00</th>\n",
              "      <td>106.669998</td>\n",
              "      <td>107.470001</td>\n",
              "      <td>105.860001</td>\n",
              "      <td>106.029999</td>\n",
              "      <td>3192500</td>\n",
              "      <td>106.269997</td>\n",
              "      <td>1</td>\n",
              "    </tr>\n",
              "    <tr>\n",
              "      <th>2023-04-13 00:00:00-04:00</th>\n",
              "      <td>105.589996</td>\n",
              "      <td>106.349998</td>\n",
              "      <td>104.739998</td>\n",
              "      <td>106.269997</td>\n",
              "      <td>2765300</td>\n",
              "      <td>106.260002</td>\n",
              "      <td>0</td>\n",
              "    </tr>\n",
              "    <tr>\n",
              "      <th>2023-04-14 00:00:00-04:00</th>\n",
              "      <td>106.190002</td>\n",
              "      <td>106.900002</td>\n",
              "      <td>105.260002</td>\n",
              "      <td>106.260002</td>\n",
              "      <td>2111100</td>\n",
              "      <td>NaN</td>\n",
              "      <td>0</td>\n",
              "    </tr>\n",
              "  </tbody>\n",
              "</table>\n",
              "<p>2770 rows × 7 columns</p>\n",
              "</div>\n",
              "      <button class=\"colab-df-convert\" onclick=\"convertToInteractive('df-4777531d-460d-4dcd-8938-31ed8836500f')\"\n",
              "              title=\"Convert this dataframe to an interactive table.\"\n",
              "              style=\"display:none;\">\n",
              "        \n",
              "  <svg xmlns=\"http://www.w3.org/2000/svg\" height=\"24px\"viewBox=\"0 0 24 24\"\n",
              "       width=\"24px\">\n",
              "    <path d=\"M0 0h24v24H0V0z\" fill=\"none\"/>\n",
              "    <path d=\"M18.56 5.44l.94 2.06.94-2.06 2.06-.94-2.06-.94-.94-2.06-.94 2.06-2.06.94zm-11 1L8.5 8.5l.94-2.06 2.06-.94-2.06-.94L8.5 2.5l-.94 2.06-2.06.94zm10 10l.94 2.06.94-2.06 2.06-.94-2.06-.94-.94-2.06-.94 2.06-2.06.94z\"/><path d=\"M17.41 7.96l-1.37-1.37c-.4-.4-.92-.59-1.43-.59-.52 0-1.04.2-1.43.59L10.3 9.45l-7.72 7.72c-.78.78-.78 2.05 0 2.83L4 21.41c.39.39.9.59 1.41.59.51 0 1.02-.2 1.41-.59l7.78-7.78 2.81-2.81c.8-.78.8-2.07 0-2.86zM5.41 20L4 18.59l7.72-7.72 1.47 1.35L5.41 20z\"/>\n",
              "  </svg>\n",
              "      </button>\n",
              "      \n",
              "  <style>\n",
              "    .colab-df-container {\n",
              "      display:flex;\n",
              "      flex-wrap:wrap;\n",
              "      gap: 12px;\n",
              "    }\n",
              "\n",
              "    .colab-df-convert {\n",
              "      background-color: #E8F0FE;\n",
              "      border: none;\n",
              "      border-radius: 50%;\n",
              "      cursor: pointer;\n",
              "      display: none;\n",
              "      fill: #1967D2;\n",
              "      height: 32px;\n",
              "      padding: 0 0 0 0;\n",
              "      width: 32px;\n",
              "    }\n",
              "\n",
              "    .colab-df-convert:hover {\n",
              "      background-color: #E2EBFA;\n",
              "      box-shadow: 0px 1px 2px rgba(60, 64, 67, 0.3), 0px 1px 3px 1px rgba(60, 64, 67, 0.15);\n",
              "      fill: #174EA6;\n",
              "    }\n",
              "\n",
              "    [theme=dark] .colab-df-convert {\n",
              "      background-color: #3B4455;\n",
              "      fill: #D2E3FC;\n",
              "    }\n",
              "\n",
              "    [theme=dark] .colab-df-convert:hover {\n",
              "      background-color: #434B5C;\n",
              "      box-shadow: 0px 1px 3px 1px rgba(0, 0, 0, 0.15);\n",
              "      filter: drop-shadow(0px 1px 2px rgba(0, 0, 0, 0.3));\n",
              "      fill: #FFFFFF;\n",
              "    }\n",
              "  </style>\n",
              "\n",
              "      <script>\n",
              "        const buttonEl =\n",
              "          document.querySelector('#df-4777531d-460d-4dcd-8938-31ed8836500f button.colab-df-convert');\n",
              "        buttonEl.style.display =\n",
              "          google.colab.kernel.accessAllowed ? 'block' : 'none';\n",
              "\n",
              "        async function convertToInteractive(key) {\n",
              "          const element = document.querySelector('#df-4777531d-460d-4dcd-8938-31ed8836500f');\n",
              "          const dataTable =\n",
              "            await google.colab.kernel.invokeFunction('convertToInteractive',\n",
              "                                                     [key], {});\n",
              "          if (!dataTable) return;\n",
              "\n",
              "          const docLinkHtml = 'Like what you see? Visit the ' +\n",
              "            '<a target=\"_blank\" href=https://colab.research.google.com/notebooks/data_table.ipynb>data table notebook</a>'\n",
              "            + ' to learn more about interactive tables.';\n",
              "          element.innerHTML = '';\n",
              "          dataTable['output_type'] = 'display_data';\n",
              "          await google.colab.output.renderOutput(dataTable, element);\n",
              "          const docLink = document.createElement('div');\n",
              "          docLink.innerHTML = docLinkHtml;\n",
              "          element.appendChild(docLink);\n",
              "        }\n",
              "      </script>\n",
              "    </div>\n",
              "  </div>\n",
              "  "
            ]
          },
          "metadata": {},
          "execution_count": 10
        }
      ]
    },
    {
      "cell_type": "code",
      "source": [
        "sp500[\"Target\"].value_counts()"
      ],
      "metadata": {
        "colab": {
          "base_uri": "https://localhost:8080/"
        },
        "id": "yXecQe34h9W4",
        "outputId": "5dcc85a7-01b8-413c-fc83-3caf12c69825"
      },
      "execution_count": 11,
      "outputs": [
        {
          "output_type": "execute_result",
          "data": {
            "text/plain": [
              "1    1448\n",
              "0    1322\n",
              "Name: Target, dtype: int64"
            ]
          },
          "metadata": {},
          "execution_count": 11
        }
      ]
    },
    {
      "cell_type": "code",
      "source": [
        "model = RandomForestClassifier(n_estimators=200, min_samples_split=100, random_state=1)\n",
        "\n",
        "train = sp500.iloc[:-100]\n",
        "test = sp500.iloc[-100:]\n",
        "\n",
        "predictors = [\"Close\", \"Volume\", \"Open\", \"High\", \"Low\"]\n",
        "model.fit(train[predictors], train[\"Target\"])"
      ],
      "metadata": {
        "colab": {
          "base_uri": "https://localhost:8080/",
          "height": 75
        },
        "id": "kEfqRH9Mh9Up",
        "outputId": "a9f34682-357a-4528-d053-5e871a2c532d"
      },
      "execution_count": 12,
      "outputs": [
        {
          "output_type": "execute_result",
          "data": {
            "text/plain": [
              "RandomForestClassifier(min_samples_split=100, n_estimators=200, random_state=1)"
            ],
            "text/html": [
              "<style>#sk-container-id-1 {color: black;background-color: white;}#sk-container-id-1 pre{padding: 0;}#sk-container-id-1 div.sk-toggleable {background-color: white;}#sk-container-id-1 label.sk-toggleable__label {cursor: pointer;display: block;width: 100%;margin-bottom: 0;padding: 0.3em;box-sizing: border-box;text-align: center;}#sk-container-id-1 label.sk-toggleable__label-arrow:before {content: \"▸\";float: left;margin-right: 0.25em;color: #696969;}#sk-container-id-1 label.sk-toggleable__label-arrow:hover:before {color: black;}#sk-container-id-1 div.sk-estimator:hover label.sk-toggleable__label-arrow:before {color: black;}#sk-container-id-1 div.sk-toggleable__content {max-height: 0;max-width: 0;overflow: hidden;text-align: left;background-color: #f0f8ff;}#sk-container-id-1 div.sk-toggleable__content pre {margin: 0.2em;color: black;border-radius: 0.25em;background-color: #f0f8ff;}#sk-container-id-1 input.sk-toggleable__control:checked~div.sk-toggleable__content {max-height: 200px;max-width: 100%;overflow: auto;}#sk-container-id-1 input.sk-toggleable__control:checked~label.sk-toggleable__label-arrow:before {content: \"▾\";}#sk-container-id-1 div.sk-estimator input.sk-toggleable__control:checked~label.sk-toggleable__label {background-color: #d4ebff;}#sk-container-id-1 div.sk-label input.sk-toggleable__control:checked~label.sk-toggleable__label {background-color: #d4ebff;}#sk-container-id-1 input.sk-hidden--visually {border: 0;clip: rect(1px 1px 1px 1px);clip: rect(1px, 1px, 1px, 1px);height: 1px;margin: -1px;overflow: hidden;padding: 0;position: absolute;width: 1px;}#sk-container-id-1 div.sk-estimator {font-family: monospace;background-color: #f0f8ff;border: 1px dotted black;border-radius: 0.25em;box-sizing: border-box;margin-bottom: 0.5em;}#sk-container-id-1 div.sk-estimator:hover {background-color: #d4ebff;}#sk-container-id-1 div.sk-parallel-item::after {content: \"\";width: 100%;border-bottom: 1px solid gray;flex-grow: 1;}#sk-container-id-1 div.sk-label:hover label.sk-toggleable__label {background-color: #d4ebff;}#sk-container-id-1 div.sk-serial::before {content: \"\";position: absolute;border-left: 1px solid gray;box-sizing: border-box;top: 0;bottom: 0;left: 50%;z-index: 0;}#sk-container-id-1 div.sk-serial {display: flex;flex-direction: column;align-items: center;background-color: white;padding-right: 0.2em;padding-left: 0.2em;position: relative;}#sk-container-id-1 div.sk-item {position: relative;z-index: 1;}#sk-container-id-1 div.sk-parallel {display: flex;align-items: stretch;justify-content: center;background-color: white;position: relative;}#sk-container-id-1 div.sk-item::before, #sk-container-id-1 div.sk-parallel-item::before {content: \"\";position: absolute;border-left: 1px solid gray;box-sizing: border-box;top: 0;bottom: 0;left: 50%;z-index: -1;}#sk-container-id-1 div.sk-parallel-item {display: flex;flex-direction: column;z-index: 1;position: relative;background-color: white;}#sk-container-id-1 div.sk-parallel-item:first-child::after {align-self: flex-end;width: 50%;}#sk-container-id-1 div.sk-parallel-item:last-child::after {align-self: flex-start;width: 50%;}#sk-container-id-1 div.sk-parallel-item:only-child::after {width: 0;}#sk-container-id-1 div.sk-dashed-wrapped {border: 1px dashed gray;margin: 0 0.4em 0.5em 0.4em;box-sizing: border-box;padding-bottom: 0.4em;background-color: white;}#sk-container-id-1 div.sk-label label {font-family: monospace;font-weight: bold;display: inline-block;line-height: 1.2em;}#sk-container-id-1 div.sk-label-container {text-align: center;}#sk-container-id-1 div.sk-container {/* jupyter's `normalize.less` sets `[hidden] { display: none; }` but bootstrap.min.css set `[hidden] { display: none !important; }` so we also need the `!important` here to be able to override the default hidden behavior on the sphinx rendered scikit-learn.org. See: https://github.com/scikit-learn/scikit-learn/issues/21755 */display: inline-block !important;position: relative;}#sk-container-id-1 div.sk-text-repr-fallback {display: none;}</style><div id=\"sk-container-id-1\" class=\"sk-top-container\"><div class=\"sk-text-repr-fallback\"><pre>RandomForestClassifier(min_samples_split=100, n_estimators=200, random_state=1)</pre><b>In a Jupyter environment, please rerun this cell to show the HTML representation or trust the notebook. <br />On GitHub, the HTML representation is unable to render, please try loading this page with nbviewer.org.</b></div><div class=\"sk-container\" hidden><div class=\"sk-item\"><div class=\"sk-estimator sk-toggleable\"><input class=\"sk-toggleable__control sk-hidden--visually\" id=\"sk-estimator-id-1\" type=\"checkbox\" checked><label for=\"sk-estimator-id-1\" class=\"sk-toggleable__label sk-toggleable__label-arrow\">RandomForestClassifier</label><div class=\"sk-toggleable__content\"><pre>RandomForestClassifier(min_samples_split=100, n_estimators=200, random_state=1)</pre></div></div></div></div></div>"
            ]
          },
          "metadata": {},
          "execution_count": 12
        }
      ]
    },
    {
      "cell_type": "code",
      "source": [
        "preds = model.predict(test[predictors])\n",
        "preds = pd.Series(preds, index=test.index)\n",
        "precision_score(test[\"Target\"], preds)"
      ],
      "metadata": {
        "colab": {
          "base_uri": "https://localhost:8080/"
        },
        "id": "iczElvHqh9SG",
        "outputId": "7175255d-b97f-40b4-e17c-06b0ba01f86c"
      },
      "execution_count": 13,
      "outputs": [
        {
          "output_type": "execute_result",
          "data": {
            "text/plain": [
              "0.631578947368421"
            ]
          },
          "metadata": {},
          "execution_count": 13
        }
      ]
    },
    {
      "cell_type": "code",
      "source": [
        "combined = pd.concat([test[\"Target\"], preds], axis=1)\n",
        "combined.plot()"
      ],
      "metadata": {
        "colab": {
          "base_uri": "https://localhost:8080/",
          "height": 450
        },
        "id": "DTaDndemh9Lb",
        "outputId": "b11f427c-0c41-4d03-b9ed-6428e38bbec7"
      },
      "execution_count": 14,
      "outputs": [
        {
          "output_type": "execute_result",
          "data": {
            "text/plain": [
              "<Axes: xlabel='Date'>"
            ]
          },
          "metadata": {},
          "execution_count": 14
        },
        {
          "output_type": "display_data",
          "data": {
            "text/plain": [
              "<Figure size 640x480 with 1 Axes>"
            ],
            "image/png": "[encoded data removed]"
          },
          "metadata": {}
        }
      ]
    },
    {
      "cell_type": "code",
      "source": [
        "def predict(train, test, predictors, model):\n",
        "  model.fit(train[predictors], train[\"Target\"])\n",
        "  preds = model.predict(test[predictors])\n",
        "  preds = pd.Series(preds, index=test.index, name=\"Predictions\")\n",
        "  combined = pd.concat([test[\"Target\"], preds], axis=1)\n",
        "  return combined"
      ],
      "metadata": {
        "id": "U_mlGNJ2h9JH"
      },
      "execution_count": 15,
      "outputs": []
    },
    {
      "cell_type": "code",
      "source": [
        "def backtest(data, model, predictors, start=500, step=250):\n",
        "  all_predictions = []\n",
        "\n",
        "  for i in range(start, data.shape[0], step):\n",
        "      train = data.iloc[0:i].copy()\n",
        "      test = data.iloc[i:(i+step)].copy()\n",
        "      predictions = predict(train, test, predictors, model)\n",
        "      all_predictions.append(predictions)\n",
        "      print(pd.concat(all_predictions))\n",
        "  \n",
        "  return pd.concat(all_predictions)"
      ],
      "metadata": {
        "id": "rbXFamHqh9Gl"
      },
      "execution_count": 16,
      "outputs": []
    },
    {
      "cell_type": "code",
      "source": [
        "predictions = backtest(sp500, model, predictors)"
      ],
      "metadata": {
        "colab": {
          "base_uri": "https://localhost:8080/"
        },
        "id": "bDFHWWSTh9El",
        "outputId": "4ffa93eb-9a85-4653-9c43-e1869a67add0"
      },
      "execution_count": 17,
      "outputs": [
        {
          "output_type": "stream",
          "name": "stdout",
          "text": [
            "                           Target  Predictions\n",
            "Date                                          \n",
            "2014-04-09 00:00:00-04:00       0            1\n",
            "2014-04-10 00:00:00-04:00       1            0\n",
            "2014-04-11 00:00:00-04:00       1            0\n",
            "2014-04-14 00:00:00-04:00       1            0\n",
            "2014-04-15 00:00:00-04:00       1            0\n",
            "...                           ...          ...\n",
            "2015-03-31 00:00:00-04:00       1            0\n",
            "2015-04-01 00:00:00-04:00       0            0\n",
            "2015-04-02 00:00:00-04:00       1            0\n",
            "2015-04-06 00:00:00-04:00       0            0\n",
            "2015-04-07 00:00:00-04:00       0            0\n",
            "\n",
            "[250 rows x 2 columns]\n",
            "                           Target  Predictions\n",
            "Date                                          \n",
            "2014-04-09 00:00:00-04:00       0            1\n",
            "2014-04-10 00:00:00-04:00       1            0\n",
            "2014-04-11 00:00:00-04:00       1            0\n",
            "2014-04-14 00:00:00-04:00       1            0\n",
            "2014-04-15 00:00:00-04:00       1            0\n",
            "...                           ...          ...\n",
            "2016-03-29 00:00:00-04:00       1            0\n",
            "2016-03-30 00:00:00-04:00       0            0\n",
            "2016-03-31 00:00:00-04:00       0            0\n",
            "2016-04-01 00:00:00-04:00       1            0\n",
            "2016-04-04 00:00:00-04:00       0            0\n",
            "\n",
            "[500 rows x 2 columns]\n",
            "                           Target  Predictions\n",
            "Date                                          \n",
            "2014-04-09 00:00:00-04:00       0            1\n",
            "2014-04-10 00:00:00-04:00       1            0\n",
            "2014-04-11 00:00:00-04:00       1            0\n",
            "2014-04-14 00:00:00-04:00       1            0\n",
            "2014-04-15 00:00:00-04:00       1            0\n",
            "...                           ...          ...\n",
            "2017-03-24 00:00:00-04:00       0            0\n",
            "2017-03-27 00:00:00-04:00       1            0\n",
            "2017-03-28 00:00:00-04:00       1            1\n",
            "2017-03-29 00:00:00-04:00       1            0\n",
            "2017-03-30 00:00:00-04:00       1            1\n",
            "\n",
            "[750 rows x 2 columns]\n",
            "                           Target  Predictions\n",
            "Date                                          \n",
            "2014-04-09 00:00:00-04:00       0            1\n",
            "2014-04-10 00:00:00-04:00       1            0\n",
            "2014-04-11 00:00:00-04:00       1            0\n",
            "2014-04-14 00:00:00-04:00       1            0\n",
            "2014-04-15 00:00:00-04:00       1            0\n",
            "...                           ...          ...\n",
            "2018-03-22 00:00:00-04:00       0            0\n",
            "2018-03-23 00:00:00-04:00       1            0\n",
            "2018-03-26 00:00:00-04:00       0            0\n",
            "2018-03-27 00:00:00-04:00       0            0\n",
            "2018-03-28 00:00:00-04:00       1            0\n",
            "\n",
            "[1000 rows x 2 columns]\n",
            "                           Target  Predictions\n",
            "Date                                          \n",
            "2014-04-09 00:00:00-04:00       0            1\n",
            "2014-04-10 00:00:00-04:00       1            0\n",
            "2014-04-11 00:00:00-04:00       1            0\n",
            "2014-04-14 00:00:00-04:00       1            0\n",
            "2014-04-15 00:00:00-04:00       1            0\n",
            "...                           ...          ...\n",
            "2019-03-21 00:00:00-04:00       0            1\n",
            "2019-03-22 00:00:00-04:00       0            1\n",
            "2019-03-25 00:00:00-04:00       1            0\n",
            "2019-03-26 00:00:00-04:00       0            1\n",
            "2019-03-27 00:00:00-04:00       0            1\n",
            "\n",
            "[1250 rows x 2 columns]\n",
            "                           Target  Predictions\n",
            "Date                                          \n",
            "2014-04-09 00:00:00-04:00       0            1\n",
            "2014-04-10 00:00:00-04:00       1            0\n",
            "2014-04-11 00:00:00-04:00       1            0\n",
            "2014-04-14 00:00:00-04:00       1            0\n",
            "2014-04-15 00:00:00-04:00       1            0\n",
            "...                           ...          ...\n",
            "2020-03-18 00:00:00-04:00       1            1\n",
            "2020-03-19 00:00:00-04:00       1            1\n",
            "2020-03-20 00:00:00-04:00       0            1\n",
            "2020-03-23 00:00:00-04:00       1            1\n",
            "2020-03-24 00:00:00-04:00       1            1\n",
            "\n",
            "[1500 rows x 2 columns]\n",
            "                           Target  Predictions\n",
            "Date                                          \n",
            "2014-04-09 00:00:00-04:00       0            1\n",
            "2014-04-10 00:00:00-04:00       1            0\n",
            "2014-04-11 00:00:00-04:00       1            0\n",
            "2014-04-14 00:00:00-04:00       1            0\n",
            "2014-04-15 00:00:00-04:00       1            0\n",
            "...                           ...          ...\n",
            "2021-03-16 00:00:00-04:00       1            1\n",
            "2021-03-17 00:00:00-04:00       0            0\n",
            "2021-03-18 00:00:00-04:00       1            1\n",
            "2021-03-19 00:00:00-04:00       0            0\n",
            "2021-03-22 00:00:00-04:00       0            0\n",
            "\n",
            "[1750 rows x 2 columns]\n",
            "                           Target  Predictions\n",
            "Date                                          \n",
            "2014-04-09 00:00:00-04:00       0            1\n",
            "2014-04-10 00:00:00-04:00       1            0\n",
            "2014-04-11 00:00:00-04:00       1            0\n",
            "2014-04-14 00:00:00-04:00       1            0\n",
            "2014-04-15 00:00:00-04:00       1            0\n",
            "...                           ...          ...\n",
            "2022-03-11 00:00:00-05:00       0            0\n",
            "2022-03-14 00:00:00-04:00       0            1\n",
            "2022-03-15 00:00:00-04:00       1            0\n",
            "2022-03-16 00:00:00-04:00       1            0\n",
            "2022-03-17 00:00:00-04:00       1            0\n",
            "\n",
            "[2000 rows x 2 columns]\n",
            "                           Target  Predictions\n",
            "Date                                          \n",
            "2014-04-09 00:00:00-04:00       0            1\n",
            "2014-04-10 00:00:00-04:00       1            0\n",
            "2014-04-11 00:00:00-04:00       1            0\n",
            "2014-04-14 00:00:00-04:00       1            0\n",
            "2014-04-15 00:00:00-04:00       1            0\n",
            "...                           ...          ...\n",
            "2023-03-10 00:00:00-05:00       0            0\n",
            "2023-03-13 00:00:00-04:00       1            1\n",
            "2023-03-14 00:00:00-04:00       0            1\n",
            "2023-03-15 00:00:00-04:00       1            1\n",
            "2023-03-16 00:00:00-04:00       0            1\n",
            "\n",
            "[2250 rows x 2 columns]\n",
            "                           Target  Predictions\n",
            "Date                                          \n",
            "2014-04-09 00:00:00-04:00       0            1\n",
            "2014-04-10 00:00:00-04:00       1            0\n",
            "2014-04-11 00:00:00-04:00       1            0\n",
            "2014-04-14 00:00:00-04:00       1            0\n",
            "2014-04-15 00:00:00-04:00       1            0\n",
            "...                           ...          ...\n",
            "2023-04-10 00:00:00-04:00       1            0\n",
            "2023-04-11 00:00:00-04:00       0            0\n",
            "2023-04-12 00:00:00-04:00       1            0\n",
            "2023-04-13 00:00:00-04:00       0            0\n",
            "2023-04-14 00:00:00-04:00       0            0\n",
            "\n",
            "[2270 rows x 2 columns]\n"
          ]
        }
      ]
    },
    {
      "cell_type": "code",
      "source": [
        "predictions[\"Predictions\"].value_counts()"
      ],
      "metadata": {
        "colab": {
          "base_uri": "https://localhost:8080/"
        },
        "id": "Jnj7JWO5h9Cp",
        "outputId": "e4b57efc-ff3d-43ec-dae2-e6a22748c044"
      },
      "execution_count": 18,
      "outputs": [
        {
          "output_type": "execute_result",
          "data": {
            "text/plain": [
              "0    1373\n",
              "1     897\n",
              "Name: Predictions, dtype: int64"
            ]
          },
          "metadata": {},
          "execution_count": 18
        }
      ]
    },
    {
      "cell_type": "code",
      "source": [
        "precision_score(predictions[\"Target\"], predictions[\"Predictions\"])"
      ],
      "metadata": {
        "colab": {
          "base_uri": "https://localhost:8080/"
        },
        "id": "eyHvnFPbh9BP",
        "outputId": "7ae2ca52-a33f-4bef-a2dd-97b3dd29c1a4"
      },
      "execution_count": 19,
      "outputs": [
        {
          "output_type": "execute_result",
          "data": {
            "text/plain": [
              "0.5172798216276477"
            ]
          },
          "metadata": {},
          "execution_count": 19
        }
      ]
    },
    {
      "cell_type": "code",
      "source": [
        "predictions[\"Target\"].value_counts() / predictions.shape[0]"
      ],
      "metadata": {
        "colab": {
          "base_uri": "https://localhost:8080/"
        },
        "id": "fEgwwG7r7ZbC",
        "outputId": "968af204-98f7-49c3-ae48-0cc58fa7753a"
      },
      "execution_count": 20,
      "outputs": [
        {
          "output_type": "execute_result",
          "data": {
            "text/plain": [
              "1    0.522026\n",
              "0    0.477974\n",
              "Name: Target, dtype: float64"
            ]
          },
          "metadata": {},
          "execution_count": 20
        }
      ]
    },
    {
      "cell_type": "code",
      "source": [
        "horizons = [2,5,60,250]\n",
        "new_predictors = []\n",
        "\n",
        "for horizon in horizons:\n",
        "  rolling_averages = sp500.rolling(horizon).mean()\n",
        "  \n",
        "  ratio_column = f\"Close_Ratio_{horizon}\"\n",
        "  sp500[ratio_column] = sp500[\"Close\"] / rolling_averages[\"Close\"]\n",
        "  \n",
        "  trend_column = f\"Trend_{horizon}\"\n",
        "  sp500[trend_column] = sp500.shift(1).rolling(horizon).sum()[\"Target\"]\n",
        "  \n",
        "  new_predictors+= [ratio_column, trend_column]"
      ],
      "metadata": {
        "id": "BZv-JB2qh8_K"
      },
      "execution_count": 21,
      "outputs": []
    },
    {
      "cell_type": "code",
      "source": [
        "sp500 = sp500.dropna(subset=sp500.columns[sp500.columns != \"Tomorrow\"])"
      ],
      "metadata": {
        "id": "BvsXUHWXsHGm"
      },
      "execution_count": 22,
      "outputs": []
    },
    {
      "cell_type": "code",
      "source": [
        "sp500.shape"
      ],
      "metadata": {
        "colab": {
          "base_uri": "https://localhost:8080/"
        },
        "id": "YR2qpTQxCYto",
        "outputId": "db63e696-c014-4afc-da7a-e3461a1f07eb"
      },
      "execution_count": 23,
      "outputs": [
        {
          "output_type": "execute_result",
          "data": {
            "text/plain": [
              "(2520, 15)"
            ]
          },
          "metadata": {},
          "execution_count": 23
        }
      ]
    },
    {
      "cell_type": "code",
      "source": [
        "model = RandomForestClassifier(n_estimators=200, min_samples_split=50, random_state=1)"
      ],
      "metadata": {
        "id": "OVzlT_SDh85_"
      },
      "execution_count": 24,
      "outputs": []
    },
    {
      "cell_type": "code",
      "source": [
        "def predict(train, test, predictors, model):\n",
        "    model.fit(train[predictors], train[\"Target\"])\n",
        "    preds = model.predict_proba(test[predictors])[:,1]\n",
        "    preds[preds >= .55] = 1\n",
        "    preds[preds < .55] = 0\n",
        "    preds = pd.Series(preds, index=test.index, name=\"Predictions\")\n",
        "    combined = pd.concat([test[\"Target\"], preds], axis=1)\n",
        "    return combined"
      ],
      "metadata": {
        "id": "ozFCIUGbtPnV"
      },
      "execution_count": 25,
      "outputs": []
    },
    {
      "cell_type": "code",
      "source": [
        "predictions = backtest(sp500, model, new_predictors)"
      ],
      "metadata": {
        "colab": {
          "base_uri": "https://localhost:8080/"
        },
        "id": "d0o0_7gIh8rH",
        "outputId": "5f2aebd8-c754-48c8-beef-fd2710c8f3da"
      },
      "execution_count": 26,
      "outputs": [
        {
          "output_type": "stream",
          "name": "stdout",
          "text": [
            "                           Target  Predictions\n",
            "Date                                          \n",
            "2015-04-08 00:00:00-04:00       1          1.0\n",
            "2015-04-09 00:00:00-04:00       1          0.0\n",
            "2015-04-10 00:00:00-04:00       0          0.0\n",
            "2015-04-13 00:00:00-04:00       1          1.0\n",
            "2015-04-14 00:00:00-04:00       1          0.0\n",
            "...                           ...          ...\n",
            "2016-03-29 00:00:00-04:00       1          1.0\n",
            "2016-03-30 00:00:00-04:00       0          1.0\n",
            "2016-03-31 00:00:00-04:00       0          1.0\n",
            "2016-04-01 00:00:00-04:00       1          1.0\n",
            "2016-04-04 00:00:00-04:00       0          0.0\n",
            "\n",
            "[250 rows x 2 columns]\n",
            "                           Target  Predictions\n",
            "Date                                          \n",
            "2015-04-08 00:00:00-04:00       1          1.0\n",
            "2015-04-09 00:00:00-04:00       1          0.0\n",
            "2015-04-10 00:00:00-04:00       0          0.0\n",
            "2015-04-13 00:00:00-04:00       1          1.0\n",
            "2015-04-14 00:00:00-04:00       1          0.0\n",
            "...                           ...          ...\n",
            "2017-03-24 00:00:00-04:00       0          1.0\n",
            "2017-03-27 00:00:00-04:00       1          1.0\n",
            "2017-03-28 00:00:00-04:00       1          1.0\n",
            "2017-03-29 00:00:00-04:00       1          1.0\n",
            "2017-03-30 00:00:00-04:00       1          1.0\n",
            "\n",
            "[500 rows x 2 columns]\n",
            "                           Target  Predictions\n",
            "Date                                          \n",
            "2015-04-08 00:00:00-04:00       1          1.0\n",
            "2015-04-09 00:00:00-04:00       1          0.0\n",
            "2015-04-10 00:00:00-04:00       0          0.0\n",
            "2015-04-13 00:00:00-04:00       1          1.0\n",
            "2015-04-14 00:00:00-04:00       1          0.0\n",
            "...                           ...          ...\n",
            "2018-03-22 00:00:00-04:00       0          0.0\n",
            "2018-03-23 00:00:00-04:00       1          0.0\n",
            "2018-03-26 00:00:00-04:00       0          0.0\n",
            "2018-03-27 00:00:00-04:00       0          0.0\n",
            "2018-03-28 00:00:00-04:00       1          0.0\n",
            "\n",
            "[750 rows x 2 columns]\n",
            "                           Target  Predictions\n",
            "Date                                          \n",
            "2015-04-08 00:00:00-04:00       1          1.0\n",
            "2015-04-09 00:00:00-04:00       1          0.0\n",
            "2015-04-10 00:00:00-04:00       0          0.0\n",
            "2015-04-13 00:00:00-04:00       1          1.0\n",
            "2015-04-14 00:00:00-04:00       1          0.0\n",
            "...                           ...          ...\n",
            "2019-03-21 00:00:00-04:00       0          0.0\n",
            "2019-03-22 00:00:00-04:00       0          1.0\n",
            "2019-03-25 00:00:00-04:00       1          1.0\n",
            "2019-03-26 00:00:00-04:00       0          0.0\n",
            "2019-03-27 00:00:00-04:00       0          0.0\n",
            "\n",
            "[1000 rows x 2 columns]\n",
            "                           Target  Predictions\n",
            "Date                                          \n",
            "2015-04-08 00:00:00-04:00       1          1.0\n",
            "2015-04-09 00:00:00-04:00       1          0.0\n",
            "2015-04-10 00:00:00-04:00       0          0.0\n",
            "2015-04-13 00:00:00-04:00       1          1.0\n",
            "2015-04-14 00:00:00-04:00       1          0.0\n",
            "...                           ...          ...\n",
            "2020-03-18 00:00:00-04:00       1          0.0\n",
            "2020-03-19 00:00:00-04:00       1          1.0\n",
            "2020-03-20 00:00:00-04:00       0          1.0\n",
            "2020-03-23 00:00:00-04:00       1          0.0\n",
            "2020-03-24 00:00:00-04:00       1          1.0\n",
            "\n",
            "[1250 rows x 2 columns]\n",
            "                           Target  Predictions\n",
            "Date                                          \n",
            "2015-04-08 00:00:00-04:00       1          1.0\n",
            "2015-04-09 00:00:00-04:00       1          0.0\n",
            "2015-04-10 00:00:00-04:00       0          0.0\n",
            "2015-04-13 00:00:00-04:00       1          1.0\n",
            "2015-04-14 00:00:00-04:00       1          0.0\n",
            "...                           ...          ...\n",
            "2021-03-16 00:00:00-04:00       1          0.0\n",
            "2021-03-17 00:00:00-04:00       0          0.0\n",
            "2021-03-18 00:00:00-04:00       1          0.0\n",
            "2021-03-19 00:00:00-04:00       0          0.0\n",
            "2021-03-22 00:00:00-04:00       0          0.0\n",
            "\n",
            "[1500 rows x 2 columns]\n",
            "                           Target  Predictions\n",
            "Date                                          \n",
            "2015-04-08 00:00:00-04:00       1          1.0\n",
            "2015-04-09 00:00:00-04:00       1          0.0\n",
            "2015-04-10 00:00:00-04:00       0          0.0\n",
            "2015-04-13 00:00:00-04:00       1          1.0\n",
            "2015-04-14 00:00:00-04:00       1          0.0\n",
            "...                           ...          ...\n",
            "2022-03-11 00:00:00-05:00       0          1.0\n",
            "2022-03-14 00:00:00-04:00       0          1.0\n",
            "2022-03-15 00:00:00-04:00       1          0.0\n",
            "2022-03-16 00:00:00-04:00       1          0.0\n",
            "2022-03-17 00:00:00-04:00       1          0.0\n",
            "\n",
            "[1750 rows x 2 columns]\n",
            "                           Target  Predictions\n",
            "Date                                          \n",
            "2015-04-08 00:00:00-04:00       1          1.0\n",
            "2015-04-09 00:00:00-04:00       1          0.0\n",
            "2015-04-10 00:00:00-04:00       0          0.0\n",
            "2015-04-13 00:00:00-04:00       1          1.0\n",
            "2015-04-14 00:00:00-04:00       1          0.0\n",
            "...                           ...          ...\n",
            "2023-03-10 00:00:00-05:00       0          0.0\n",
            "2023-03-13 00:00:00-04:00       1          1.0\n",
            "2023-03-14 00:00:00-04:00       0          0.0\n",
            "2023-03-15 00:00:00-04:00       1          1.0\n",
            "2023-03-16 00:00:00-04:00       0          0.0\n",
            "\n",
            "[2000 rows x 2 columns]\n",
            "                           Target  Predictions\n",
            "Date                                          \n",
            "2015-04-08 00:00:00-04:00       1          1.0\n",
            "2015-04-09 00:00:00-04:00       1          0.0\n",
            "2015-04-10 00:00:00-04:00       0          0.0\n",
            "2015-04-13 00:00:00-04:00       1          1.0\n",
            "2015-04-14 00:00:00-04:00       1          0.0\n",
            "...                           ...          ...\n",
            "2023-04-10 00:00:00-04:00       1          0.0\n",
            "2023-04-11 00:00:00-04:00       0          0.0\n",
            "2023-04-12 00:00:00-04:00       1          0.0\n",
            "2023-04-13 00:00:00-04:00       0          0.0\n",
            "2023-04-14 00:00:00-04:00       0          0.0\n",
            "\n",
            "[2020 rows x 2 columns]\n"
          ]
        }
      ]
    },
    {
      "cell_type": "code",
      "source": [
        "predictions[\"Predictions\"].value_counts()"
      ],
      "metadata": {
        "colab": {
          "base_uri": "https://localhost:8080/"
        },
        "id": "zlQyv5Dgh8fY",
        "outputId": "4fe93059-0578-4444-bf76-8e8ca5dda90c"
      },
      "execution_count": 27,
      "outputs": [
        {
          "output_type": "execute_result",
          "data": {
            "text/plain": [
              "0.0    1261\n",
              "1.0     759\n",
              "Name: Predictions, dtype: int64"
            ]
          },
          "metadata": {},
          "execution_count": 27
        }
      ]
    },
    {
      "cell_type": "code",
      "source": [
        "precision_score(predictions[\"Target\"], predictions[\"Predictions\"])"
      ],
      "metadata": {
        "colab": {
          "base_uri": "https://localhost:8080/"
        },
        "id": "BPe6HRqWor2S",
        "outputId": "2caa71a8-cd25-4661-934f-57f92fa9acbf"
      },
      "execution_count": 28,
      "outputs": [
        {
          "output_type": "execute_result",
          "data": {
            "text/plain": [
              "0.52832674571805"
            ]
          },
          "metadata": {},
          "execution_count": 28
        }
      ]
    },
    {
      "cell_type": "code",
      "source": [
        "predictions[\"Target\"].value_counts() / predictions.shape[0]"
      ],
      "metadata": {
        "colab": {
          "base_uri": "https://localhost:8080/"
        },
        "id": "D0DYObaeorz_",
        "outputId": "eb78bef1-4254-4fc8-94b8-cfb24ec7e7dc"
      },
      "execution_count": 29,
      "outputs": [
        {
          "output_type": "execute_result",
          "data": {
            "text/plain": [
              "1    0.525248\n",
              "0    0.474752\n",
              "Name: Target, dtype: float64"
            ]
          },
          "metadata": {},
          "execution_count": 29
        }
      ]
    },
    {
      "cell_type": "code",
      "source": [
        "predictions"
      ],
      "metadata": {
        "colab": {
          "base_uri": "https://localhost:8080/",
          "height": 455
        },
        "id": "oNqzL1k5orx5",
        "outputId": "2cba726e-91fd-4e04-874d-65e7f4bb373e"
      },
      "execution_count": 30,
      "outputs": [
        {
          "output_type": "execute_result",
          "data": {
            "text/plain": [
              "                           Target  Predictions\n",
              "Date                                          \n",
              "2015-04-08 00:00:00-04:00       1          1.0\n",
              "2015-04-09 00:00:00-04:00       1          0.0\n",
              "2015-04-10 00:00:00-04:00       0          0.0\n",
              "2015-04-13 00:00:00-04:00       1          1.0\n",
              "2015-04-14 00:00:00-04:00       1          0.0\n",
              "...                           ...          ...\n",
              "2023-04-10 00:00:00-04:00       1          0.0\n",
              "2023-04-11 00:00:00-04:00       0          0.0\n",
              "2023-04-12 00:00:00-04:00       1          0.0\n",
              "2023-04-13 00:00:00-04:00       0          0.0\n",
              "2023-04-14 00:00:00-04:00       0          0.0\n",
              "\n",
              "[2020 rows x 2 columns]"
            ],
            "text/html": [
              "\n",
              "  <div id=\"df-75751de8-0c85-4223-a1c9-63250902b85c\">\n",
              "    <div class=\"colab-df-container\">\n",
              "      <div>\n",
              "<style scoped>\n",
              "    .dataframe tbody tr th:only-of-type {\n",
              "        vertical-align: middle;\n",
              "    }\n",
              "\n",
              "    .dataframe tbody tr th {\n",
              "        vertical-align: top;\n",
              "    }\n",
              "\n",
              "    .dataframe thead th {\n",
              "        text-align: right;\n",
              "    }\n",
              "</style>\n",
              "<table border=\"1\" class=\"dataframe\">\n",
              "  <thead>\n",
              "    <tr style=\"text-align: right;\">\n",
              "      <th></th>\n",
              "      <th>Target</th>\n",
              "      <th>Predictions</th>\n",
              "    </tr>\n",
              "    <tr>\n",
              "      <th>Date</th>\n",
              "      <th></th>\n",
              "      <th></th>\n",
              "    </tr>\n",
              "  </thead>\n",
              "  <tbody>\n",
              "    <tr>\n",
              "      <th>2015-04-08 00:00:00-04:00</th>\n",
              "      <td>1</td>\n",
              "      <td>1.0</td>\n",
              "    </tr>\n",
              "    <tr>\n",
              "      <th>2015-04-09 00:00:00-04:00</th>\n",
              "      <td>1</td>\n",
              "      <td>0.0</td>\n",
              "    </tr>\n",
              "    <tr>\n",
              "      <th>2015-04-10 00:00:00-04:00</th>\n",
              "      <td>0</td>\n",
              "      <td>0.0</td>\n",
              "    </tr>\n",
              "    <tr>\n",
              "      <th>2015-04-13 00:00:00-04:00</th>\n",
              "      <td>1</td>\n",
              "      <td>1.0</td>\n",
              "    </tr>\n",
              "    <tr>\n",
              "      <th>2015-04-14 00:00:00-04:00</th>\n",
              "      <td>1</td>\n",
              "      <td>0.0</td>\n",
              "    </tr>\n",
              "    <tr>\n",
              "      <th>...</th>\n",
              "      <td>...</td>\n",
              "      <td>...</td>\n",
              "    </tr>\n",
              "    <tr>\n",
              "      <th>2023-04-10 00:00:00-04:00</th>\n",
              "      <td>1</td>\n",
              "      <td>0.0</td>\n",
              "    </tr>\n",
              "    <tr>\n",
              "      <th>2023-04-11 00:00:00-04:00</th>\n",
              "      <td>0</td>\n",
              "      <td>0.0</td>\n",
              "    </tr>\n",
              "    <tr>\n",
              "      <th>2023-04-12 00:00:00-04:00</th>\n",
              "      <td>1</td>\n",
              "      <td>0.0</td>\n",
              "    </tr>\n",
              "    <tr>\n",
              "      <th>2023-04-13 00:00:00-04:00</th>\n",
              "      <td>0</td>\n",
              "      <td>0.0</td>\n",
              "    </tr>\n",
              "    <tr>\n",
              "      <th>2023-04-14 00:00:00-04:00</th>\n",
              "      <td>0</td>\n",
              "      <td>0.0</td>\n",
              "    </tr>\n",
              "  </tbody>\n",
              "</table>\n",
              "<p>2020 rows × 2 columns</p>\n",
              "</div>\n",
              "      <button class=\"colab-df-convert\" onclick=\"convertToInteractive('df-75751de8-0c85-4223-a1c9-63250902b85c')\"\n",
              "              title=\"Convert this dataframe to an interactive table.\"\n",
              "              style=\"display:none;\">\n",
              "        \n",
              "  <svg xmlns=\"http://www.w3.org/2000/svg\" height=\"24px\"viewBox=\"0 0 24 24\"\n",
              "       width=\"24px\">\n",
              "    <path d=\"M0 0h24v24H0V0z\" fill=\"none\"/>\n",
              "    <path d=\"M18.56 5.44l.94 2.06.94-2.06 2.06-.94-2.06-.94-.94-2.06-.94 2.06-2.06.94zm-11 1L8.5 8.5l.94-2.06 2.06-.94-2.06-.94L8.5 2.5l-.94 2.06-2.06.94zm10 10l.94 2.06.94-2.06 2.06-.94-2.06-.94-.94-2.06-.94 2.06-2.06.94z\"/><path d=\"M17.41 7.96l-1.37-1.37c-.4-.4-.92-.59-1.43-.59-.52 0-1.04.2-1.43.59L10.3 9.45l-7.72 7.72c-.78.78-.78 2.05 0 2.83L4 21.41c.39.39.9.59 1.41.59.51 0 1.02-.2 1.41-.59l7.78-7.78 2.81-2.81c.8-.78.8-2.07 0-2.86zM5.41 20L4 18.59l7.72-7.72 1.47 1.35L5.41 20z\"/>\n",
              "  </svg>\n",
              "      </button>\n",
              "      \n",
              "  <style>\n",
              "    .colab-df-container {\n",
              "      display:flex;\n",
              "      flex-wrap:wrap;\n",
              "      gap: 12px;\n",
              "    }\n",
              "\n",
              "    .colab-df-convert {\n",
              "      background-color: #E8F0FE;\n",
              "      border: none;\n",
              "      border-radius: 50%;\n",
              "      cursor: pointer;\n",
              "      display: none;\n",
              "      fill: #1967D2;\n",
              "      height: 32px;\n",
              "      padding: 0 0 0 0;\n",
              "      width: 32px;\n",
              "    }\n",
              "\n",
              "    .colab-df-convert:hover {\n",
              "      background-color: #E2EBFA;\n",
              "      box-shadow: 0px 1px 2px rgba(60, 64, 67, 0.3), 0px 1px 3px 1px rgba(60, 64, 67, 0.15);\n",
              "      fill: #174EA6;\n",
              "    }\n",
              "\n",
              "    [theme=dark] .colab-df-convert {\n",
              "      background-color: #3B4455;\n",
              "      fill: #D2E3FC;\n",
              "    }\n",
              "\n",
              "    [theme=dark] .colab-df-convert:hover {\n",
              "      background-color: #434B5C;\n",
              "      box-shadow: 0px 1px 3px 1px rgba(0, 0, 0, 0.15);\n",
              "      filter: drop-shadow(0px 1px 2px rgba(0, 0, 0, 0.3));\n",
              "      fill: #FFFFFF;\n",
              "    }\n",
              "  </style>\n",
              "\n",
              "      <script>\n",
              "        const buttonEl =\n",
              "          document.querySelector('#df-75751de8-0c85-4223-a1c9-63250902b85c button.colab-df-convert');\n",
              "        buttonEl.style.display =\n",
              "          google.colab.kernel.accessAllowed ? 'block' : 'none';\n",
              "\n",
              "        async function convertToInteractive(key) {\n",
              "          const element = document.querySelector('#df-75751de8-0c85-4223-a1c9-63250902b85c');\n",
              "          const dataTable =\n",
              "            await google.colab.kernel.invokeFunction('convertToInteractive',\n",
              "                                                     [key], {});\n",
              "          if (!dataTable) return;\n",
              "\n",
              "          const docLinkHtml = 'Like what you see? Visit the ' +\n",
              "            '<a target=\"_blank\" href=https://colab.research.google.com/notebooks/data_table.ipynb>data table notebook</a>'\n",
              "            + ' to learn more about interactive tables.';\n",
              "          element.innerHTML = '';\n",
              "          dataTable['output_type'] = 'display_data';\n",
              "          await google.colab.output.renderOutput(dataTable, element);\n",
              "          const docLink = document.createElement('div');\n",
              "          docLink.innerHTML = docLinkHtml;\n",
              "          element.appendChild(docLink);\n",
              "        }\n",
              "      </script>\n",
              "    </div>\n",
              "  </div>\n",
              "  "
            ]
          },
          "metadata": {},
          "execution_count": 30
        }
      ]
    },
    {
      "cell_type": "code",
      "source": [
        "combined = pd.concat([test[\"Target\"], preds], axis=1)\n",
        "combined.plot()"
      ],
      "metadata": {
        "colab": {
          "base_uri": "https://localhost:8080/",
          "height": 450
        },
        "id": "0eW9atpNIUJ2",
        "outputId": "86df5a84-0dce-46e4-8fd0-a11e60272ece"
      },
      "execution_count": 31,
      "outputs": [
        {
          "output_type": "execute_result",
          "data": {
            "text/plain": [
              "<Axes: xlabel='Date'>"
            ]
          },
          "metadata": {},
          "execution_count": 31
        },
        {
          "output_type": "display_data",
          "data": {
            "text/plain": [
              "<Figure size 640x480 with 1 Axes>"
            ],
            "image/png": "[encoded data removed]"
          },
          "metadata": {}
        }
      ]
    }
  ]
}